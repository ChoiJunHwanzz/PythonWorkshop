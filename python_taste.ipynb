{
 "cells": [
  {
   "cell_type": "code",
   "execution_count": 1,
   "id": "ca187f65",
   "metadata": {},
   "outputs": [],
   "source": [
    "#파이썬에서 주석은 '#'"
   ]
  },
  {
   "cell_type": "code",
   "execution_count": 2,
   "id": "9f4652ec",
   "metadata": {},
   "outputs": [],
   "source": [
    "data=\"hello\""
   ]
  },
  {
   "cell_type": "code",
   "execution_count": null,
   "id": "36704297",
   "metadata": {},
   "outputs": [],
   "source": []
  }
 ],
 "metadata": {
  "kernelspec": {
   "display_name": "Python 3",
   "language": "python",
   "name": "python3"
  },
  "language_info": {
   "codemirror_mode": {
    "name": "ipython",
    "version": 3
   },
   "file_extension": ".py",
   "mimetype": "text/x-python",
   "name": "python",
   "nbconvert_exporter": "python",
   "pygments_lexer": "ipython3",
   "version": "3.8.8"
  }
 },
 "nbformat": 4,
 "nbformat_minor": 5
}
