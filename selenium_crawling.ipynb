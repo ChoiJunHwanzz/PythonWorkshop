{
 "cells": [
  {
   "cell_type": "code",
   "execution_count": 2,
   "id": "5285f0da",
   "metadata": {},
   "outputs": [
    {
     "name": "stdout",
     "output_type": "stream",
     "text": [
      "Requirement already satisfied: selenium in c:\\programdata\\anaconda3\\lib\\site-packages (3.141.0)\n",
      "Requirement already satisfied: urllib3 in c:\\programdata\\anaconda3\\lib\\site-packages (from selenium) (1.26.4)\n"
     ]
    }
   ],
   "source": [
    "!pip install selenium"
   ]
  },
  {
   "cell_type": "code",
   "execution_count": 4,
   "id": "bb0da1b7",
   "metadata": {},
   "outputs": [],
   "source": [
    "import selenium"
   ]
  },
  {
   "cell_type": "code",
   "execution_count": 9,
   "id": "9a7b481b",
   "metadata": {},
   "outputs": [],
   "source": [
    "from selenium import webdriver"
   ]
  },
  {
   "cell_type": "code",
   "execution_count": null,
   "id": "dab63bcd",
   "metadata": {},
   "outputs": [],
   "source": [
    "#https://sites.google.com/a/chromium.org/chromedriver/home\n",
    "# Latest stable release 클릭\n",
    "# chromedriver_win32.zip"
   ]
  },
  {
   "cell_type": "code",
   "execution_count": 28,
   "id": "12178233",
   "metadata": {},
   "outputs": [],
   "source": [
    "url = \"https://www.youtube.com/\"\n",
    "\n",
    "driver = webdriver.Chrome(r\"C:\\chromedriver.exe\")\n",
    "driver.get(url = url)"
   ]
  },
  {
   "cell_type": "code",
   "execution_count": 29,
   "id": "f2eeac4d",
   "metadata": {},
   "outputs": [
    {
     "name": "stdout",
     "output_type": "stream",
     "text": [
      "https://www.youtube.com/\n",
      "YouTube\n"
     ]
    }
   ],
   "source": [
    "print(driver.current_url)\n",
    "print(driver.title)"
   ]
  },
  {
   "cell_type": "code",
   "execution_count": 34,
   "id": "9bf1933d",
   "metadata": {},
   "outputs": [
    {
     "name": "stdout",
     "output_type": "stream",
     "text": [
      "[]\n"
     ]
    }
   ],
   "source": [
    "# 광고 없다는 전제하에 30초마다 넘기기\n",
    "import time\n",
    "\n",
    "allContents = driver.find_elements_by_css_selector(\n",
    "    \"#contents > ytd-rich-item-renderer > div > ytd-rich-grid-media > div > ytd-thumbnail > a\"\n",
    ")\n",
    "#print(allContents)\n",
    "\n",
    "for item in allContents:\n",
    "    item.click()\n",
    "    time.sleep(30)\n",
    "    driver.back()"
   ]
  },
  {
   "cell_type": "code",
   "execution_count": null,
   "id": "fbc10250",
   "metadata": {},
   "outputs": [],
   "source": [
    "# URL 확보\n",
    "allContents = driver.find_elements_by_css_selector(\n",
    "    \"#contents > ytd-rich-item-renderer > div > ytd-rich-grid-media > div > ytd-thumbnail > a\"\n",
    ")\n",
    "\n",
    "hrefURL = []\n",
    "\n",
    "for item in allContents:\n",
    "    if (item != ''):\n",
    "        hrefURL.append(item.get_attribute('href'))\n",
    "        \n",
    "print(hrefURL)"
   ]
  },
  {
   "cell_type": "code",
   "execution_count": null,
   "id": "213c85f8",
   "metadata": {},
   "outputs": [],
   "source": [
    "driver.close()\n"
   ]
  },
  {
   "cell_type": "code",
   "execution_count": null,
   "id": "e11462aa",
   "metadata": {},
   "outputs": [],
   "source": [
    "url = \"https://www.youtube.com/results?search_query=\"\n",
    "\n",
    "# /home/test/proj/crawl/chromedriver\n",
    "driver = webdriver.Chrome(r\"C:\\chromedriver.exe\")\n",
    "\n",
    "text = '최신폰'\n",
    "\n",
    "search_url = url + text\n",
    "driver.get(url = search_url)\n",
    "\n",
    "allTitles = driver.find_elements_by_css_selector(\n",
    "    \"yt-formatted-string\"\n",
    ")\n",
    "#print(allTitles)\n",
    "\n",
    "titles = []\n",
    "\n",
    "for item in allTitles:\n",
    "    if (item != ''):\n",
    "        titles.append(item.get_attribute('aria-label'))\n",
    "        \n",
    "print(titles)"
   ]
  },
  {
   "cell_type": "code",
   "execution_count": null,
   "id": "51eb7422",
   "metadata": {},
   "outputs": [],
   "source": [
    "url = \"https://www.youtube.com/results?search_query=\"\n",
    "\n",
    "# /home/test/proj/crawl/chromedriver\n",
    "driver = webdriver.Chrome(r\"C:\\chromedriver.exe\")\n",
    "\n",
    "text = '최신폰'\n",
    "\n",
    "search_url = url + text\n",
    "driver.get(url = search_url)\n",
    "\n",
    "allTitles = driver.find_elements_by_id(\n",
    "    \"video-title\"\n",
    ")\n",
    "#print(allTitles)\n",
    "\n",
    "titles = []\n",
    "\n",
    "for item in allTitles:\n",
    "    if (item != ''):\n",
    "        titles.append(item.get_attribute('title'))\n",
    "        \n",
    "print(titles)"
   ]
  },
  {
   "cell_type": "code",
   "execution_count": null,
   "id": "8d96356e",
   "metadata": {},
   "outputs": [],
   "source": []
  },
  {
   "cell_type": "code",
   "execution_count": 11,
   "id": "09492e12",
   "metadata": {},
   "outputs": [],
   "source": [
    "driver.close()"
   ]
  }
 ],
 "metadata": {
  "kernelspec": {
   "display_name": "Python 3",
   "language": "python",
   "name": "python3"
  },
  "language_info": {
   "codemirror_mode": {
    "name": "ipython",
    "version": 3
   },
   "file_extension": ".py",
   "mimetype": "text/x-python",
   "name": "python",
   "nbconvert_exporter": "python",
   "pygments_lexer": "ipython3",
   "version": "3.8.8"
  }
 },
 "nbformat": 4,
 "nbformat_minor": 5
}
