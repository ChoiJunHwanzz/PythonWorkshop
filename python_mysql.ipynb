{
 "cells": [
  {
   "cell_type": "code",
   "execution_count": 32,
   "id": "10e07057",
   "metadata": {},
   "outputs": [
    {
     "name": "stdout",
     "output_type": "stream",
     "text": [
      "Requirement already satisfied: pymysql in c:\\programdata\\anaconda3\\lib\\site-packages (1.0.2)\n"
     ]
    }
   ],
   "source": [
    "!pip install pymysql\n"
   ]
  },
  {
   "cell_type": "code",
   "execution_count": 41,
   "id": "253fe258",
   "metadata": {},
   "outputs": [],
   "source": [
    "import pymysql\n"
   ]
  },
  {
   "cell_type": "code",
   "execution_count": 42,
   "id": "b6260243",
   "metadata": {},
   "outputs": [],
   "source": [
    "MYSQL_USER_DATA_SAVED_FILE = \"res/mysql/userinfo\"\n"
   ]
  },
  {
   "cell_type": "code",
   "execution_count": 43,
   "id": "9b4da2fa",
   "metadata": {},
   "outputs": [
    {
     "ename": "FileNotFoundError",
     "evalue": "[Errno 2] No such file or directory: 'res/mysql/userinfo'",
     "output_type": "error",
     "traceback": [
      "\u001b[1;31m---------------------------------------------------------------------------\u001b[0m",
      "\u001b[1;31mFileNotFoundError\u001b[0m                         Traceback (most recent call last)",
      "\u001b[1;32m<ipython-input-43-0470e696b100>\u001b[0m in \u001b[0;36m<module>\u001b[1;34m\u001b[0m\n\u001b[0;32m      8\u001b[0m })\n\u001b[0;32m      9\u001b[0m \u001b[1;33m\u001b[0m\u001b[0m\n\u001b[1;32m---> 10\u001b[1;33m \u001b[0mf\u001b[0m \u001b[1;33m=\u001b[0m \u001b[0mopen\u001b[0m\u001b[1;33m(\u001b[0m\u001b[0mMYSQL_USER_DATA_SAVED_FILE\u001b[0m\u001b[1;33m,\u001b[0m \u001b[1;34m'wb'\u001b[0m\u001b[1;33m)\u001b[0m\u001b[1;33m\u001b[0m\u001b[1;33m\u001b[0m\u001b[0m\n\u001b[0m\u001b[0;32m     11\u001b[0m \u001b[0mpickle\u001b[0m\u001b[1;33m.\u001b[0m\u001b[0mdump\u001b[0m\u001b[1;33m(\u001b[0m\u001b[0mmysql_user_info\u001b[0m\u001b[1;33m,\u001b[0m \u001b[0mf\u001b[0m\u001b[1;33m)\u001b[0m\u001b[1;33m\u001b[0m\u001b[1;33m\u001b[0m\u001b[0m\n\u001b[0;32m     12\u001b[0m \u001b[0mf\u001b[0m\u001b[1;33m.\u001b[0m\u001b[0mclose\u001b[0m\u001b[1;33m(\u001b[0m\u001b[1;33m)\u001b[0m\u001b[1;33m\u001b[0m\u001b[1;33m\u001b[0m\u001b[0m\n",
      "\u001b[1;31mFileNotFoundError\u001b[0m: [Errno 2] No such file or directory: 'res/mysql/userinfo'"
     ]
    }
   ],
   "source": [
    "# 최초 한 번만 구동시키면 된다.\n",
    "# 본인 계정을 숨길 생각이라면 한 번 사용 이후에 id, password를 지우도록 한다.\n",
    "import pickle\n",
    "\n",
    "mysql_user_info = dict({\n",
    "    'user_id': 'khweb',\n",
    "    'password': 'khWeb@123'\n",
    "})\n",
    "\n",
    "f = open(MYSQL_USER_DATA_SAVED_FILE, 'wb')\n",
    "pickle.dump(mysql_user_info, f)\n",
    "f.close()\n",
    "\n",
    "del mysql_user_info"
   ]
  },
  {
   "cell_type": "code",
   "execution_count": 19,
   "id": "661b207c",
   "metadata": {},
   "outputs": [
    {
     "ename": "PermissionError",
     "evalue": "[Errno 13] Permission denied: 'res/mysql/userinfo'",
     "output_type": "error",
     "traceback": [
      "\u001b[1;31m---------------------------------------------------------------------------\u001b[0m",
      "\u001b[1;31mPermissionError\u001b[0m                           Traceback (most recent call last)",
      "\u001b[1;32m<ipython-input-19-356455c5781c>\u001b[0m in \u001b[0;36m<module>\u001b[1;34m\u001b[0m\n\u001b[0;32m      1\u001b[0m \u001b[1;32mimport\u001b[0m \u001b[0mpickle\u001b[0m\u001b[1;33m\u001b[0m\u001b[1;33m\u001b[0m\u001b[0m\n\u001b[0;32m      2\u001b[0m \u001b[1;33m\u001b[0m\u001b[0m\n\u001b[1;32m----> 3\u001b[1;33m \u001b[0mf\u001b[0m \u001b[1;33m=\u001b[0m \u001b[0mopen\u001b[0m\u001b[1;33m(\u001b[0m\u001b[0mMYSQL_USER_DATA_SAVED_FILE\u001b[0m\u001b[1;33m,\u001b[0m \u001b[1;34m'rb'\u001b[0m\u001b[1;33m)\u001b[0m\u001b[1;33m\u001b[0m\u001b[1;33m\u001b[0m\u001b[0m\n\u001b[0m\u001b[0;32m      4\u001b[0m \u001b[0mmysql_user_info\u001b[0m \u001b[1;33m=\u001b[0m \u001b[0mpickle\u001b[0m\u001b[1;33m.\u001b[0m\u001b[0mload\u001b[0m\u001b[1;33m(\u001b[0m\u001b[0mf\u001b[0m\u001b[1;33m)\u001b[0m\u001b[1;33m\u001b[0m\u001b[1;33m\u001b[0m\u001b[0m\n\u001b[0;32m      5\u001b[0m \u001b[0mf\u001b[0m\u001b[1;33m.\u001b[0m\u001b[0mclose\u001b[0m\u001b[1;33m(\u001b[0m\u001b[1;33m)\u001b[0m\u001b[1;33m\u001b[0m\u001b[1;33m\u001b[0m\u001b[0m\n",
      "\u001b[1;31mPermissionError\u001b[0m: [Errno 13] Permission denied: 'res/mysql/userinfo'"
     ]
    }
   ],
   "source": [
    "import pickle\n",
    "\n",
    "f = open(MYSQL_USER_DATA_SAVED_FILE, 'rb')\n",
    "mysql_user_info = pickle.load(f)\n",
    "f.close()\n",
    "\n",
    "#print(mysql_user_info)"
   ]
  },
  {
   "cell_type": "code",
   "execution_count": null,
   "id": "c9761fdf",
   "metadata": {},
   "outputs": [],
   "source": [
    "# DB 연결\n",
    "db = pymysql.connect(\n",
    "    # localhost와 같은 아이피 주소임\n",
    "    host = '127.0.0.1',\n",
    "    # MySQL의 포트 번호\n",
    "    port = 3306,\n",
    "    # 아뒤\n",
    "    user = mysql_user_info['user_id'],\n",
    "    # 비번\n",
    "    passwd = mysql_user_info['password'],\n",
    "    # 사용하려는 스키마\n",
    "    db = 'pydb'\n",
    ")\n",
    "\n",
    "print(db)"
   ]
  },
  {
   "cell_type": "code",
   "execution_count": null,
   "id": "4015281e",
   "metadata": {},
   "outputs": [],
   "source": [
    "# 이제 DB에서 select 등을 수행했을때\n",
    "# 나오는 결과를 순회할 수 있도록 지원하는 객체를 가져온다.\n",
    "cursor = db.cursor()\n",
    "\n",
    "print(cursor)"
   ]
  },
  {
   "cell_type": "code",
   "execution_count": null,
   "id": "8373a2ad",
   "metadata": {},
   "outputs": [],
   "source": [
    "# MySQL 수동 쿼리를 적용하여 table을 생성해보도록 한다.\n",
    "sql = \"\"\"\n",
    "    create table pydbtest(\n",
    "        id int unsigned not null auto_increment,\n",
    "        name varchar(20) not null,\n",
    "        price int not null,\n",
    "        primary key(id)\n",
    "    )\n",
    "\"\"\"\n",
    "\n",
    "# 실제 SQL Query를 실행하는 코드\n",
    "cursor.execute(sql)\n",
    "\n",
    "# 작업한 내용을 실제 DB에 적용함\n",
    "db.commit()\n",
    "\n",
    "# 작업 완료 이후 DB 연결을 끊는다.\n",
    "db.close()\n",
    "\n",
    "print(\"테이블 생성 성공!\")"
   ]
  },
  {
   "cell_type": "code",
   "execution_count": null,
   "id": "d32afa58",
   "metadata": {},
   "outputs": [],
   "source": [
    "# insert 처리\n",
    "db = pymysql.connect(\n",
    "    host = '127.0.0.1',\n",
    "    port = 3306,\n",
    "    user = mysql_user_info['user_id'],\n",
    "    passwd = mysql_user_info['password'],\n",
    "    db = 'pydb'\n",
    ")\n",
    "\n",
    "cursor = db.cursor()\n",
    "\n",
    "sql = \"\"\"\n",
    "    insert into pydbtest(name, price) values (%s, %s)\n",
    "\"\"\"\n",
    "\n",
    "# %s에 해당하는 데이터들을 배치한다.\n",
    "cursor.execute(sql, ('Xeon Server', 10000000))\n",
    "cursor.execute(sql, ('FPGA Server', 34000000))\n",
    "cursor.execute(sql, ('GPU Server', 20000000))\n",
    "cursor.execute(sql, ('RTX 3090', 4000000))\n",
    "\n",
    "db.commit()\n",
    "\n",
    "db.close()\n",
    "\n",
    "print(\"테이블에 값 넣기 성공!\")"
   ]
  },
  {
   "cell_type": "code",
   "execution_count": null,
   "id": "d8553003",
   "metadata": {},
   "outputs": [],
   "source": [
    "\n",
    "# select(값 가져오기)\n",
    "db = pymysql.connect(\n",
    "    host = '127.0.0.1',\n",
    "    port = 3306,\n",
    "    user = mysql_user_info['user_id'],\n",
    "    passwd = mysql_user_info['password'],\n",
    "    db = 'pydb'\n",
    ")\n",
    "\n",
    "cursor = db.cursor()\n",
    "\n",
    "sql = \"\"\"\n",
    "    select * from pydbtest;\n",
    "\"\"\"\n",
    "\n",
    "cursor.execute(sql)\n",
    "\n",
    "# cursor를 통해 가져온 모든 데이터를 rows에 배치한다.\n",
    "rows = cursor.fetchall()\n",
    "print(rows)\n",
    "\n",
    "db.close()\n",
    "\n",
    "print(\"데이터 불러오기 성공!\")"
   ]
  },
  {
   "cell_type": "code",
   "execution_count": null,
   "id": "4c0387ac",
   "metadata": {},
   "outputs": [],
   "source": [
    "\n",
    "# select(값 가져오기) 낱개로 가져오기\n",
    "db = pymysql.connect(\n",
    "    host = '127.0.0.1',\n",
    "    port = 3306,\n",
    "    user = mysql_user_info['user_id'],\n",
    "    passwd = mysql_user_info['password'],\n",
    "    db = 'pydb'\n",
    ")\n",
    "\n",
    "cursor = db.cursor()\n",
    "\n",
    "sql = \"\"\"\n",
    "    select * from pydbtest;\n",
    "\"\"\"\n",
    "\n",
    "cursor.execute(sql)\n",
    "\n",
    "# cursor를 통해 가져온 모든 데이터를 rows에 배치한다.\n",
    "rows = cursor.fetchall()\n",
    "\n",
    "for row in rows:\n",
    "    print(row)\n",
    "\n",
    "db.close()\n",
    "\n",
    "print(\"데이터 낱개로 불러오기 성공!\")"
   ]
  },
  {
   "cell_type": "code",
   "execution_count": null,
   "id": "569ad97e",
   "metadata": {},
   "outputs": [],
   "source": [
    "# 낱개 내에서 각각의 데이터를 얻기(딕셔너리 형식이라 키값으로 뽑으면 됨)\n",
    "# select(값 가져오기) 낱개로 가져오기\n",
    "db = pymysql.connect(\n",
    "    host = '127.0.0.1',\n",
    "    port = 3306,\n",
    "    user = mysql_user_info['user_id'],\n",
    "    passwd = mysql_user_info['password'],\n",
    "    db = 'pydb'\n",
    ")\n",
    "\n",
    "cursor = db.cursor(pymysql.cursors.DictCursor)\n",
    "\n",
    "sql = \"\"\"\n",
    "    select * from pydbtest;\n",
    "\"\"\"\n",
    "\n",
    "cursor.execute(sql)\n",
    "\n",
    "# cursor를 통해 가져온 모든 데이터를 rows에 배치한다.\n",
    "rows = cursor.fetchall()\n",
    "\n",
    "for row in rows:\n",
    "    print('id: ', row['id'], ', name: ', row['name'], ', price: ', row['price'])\n",
    "\n",
    "db.close()\n",
    "\n",
    "print(\"데이터 낱개로 불러와 특정값 추출하기 성공!\")"
   ]
  },
  {
   "cell_type": "code",
   "execution_count": null,
   "id": "77024c78",
   "metadata": {},
   "outputs": [],
   "source": [
    "# 입력한 데이터값 정리하기(테이블 삭제)\n",
    "db = pymysql.connect(\n",
    "    host = '127.0.0.1',\n",
    "    port = 3306,\n",
    "    user = mysql_user_info['user_id'],\n",
    "    passwd = mysql_user_info['password'],\n",
    "    db = 'pydb'\n",
    ")\n",
    "\n",
    "cursor = db.cursor()\n",
    "\n",
    "sql = \"\"\"\n",
    "    drop table pydbtest;\n",
    "\"\"\"\n",
    "\n",
    "cursor.execute(sql)\n",
    "\n",
    "db.commit()\n",
    "db.close()\n",
    "\n",
    "print(\"테이블 삭제 성공!\")"
   ]
  },
  {
   "cell_type": "code",
   "execution_count": null,
   "id": "7e9bac6c",
   "metadata": {},
   "outputs": [],
   "source": [
    "# 소수점 데이터 처리하기!\n",
    "db = pymysql.connect(\n",
    "    host = '127.0.0.1',\n",
    "    port = 3306,\n",
    "    user = mysql_user_info['user_id'],\n",
    "    passwd = mysql_user_info['password'],\n",
    "    db = 'pydb'\n",
    ")\n",
    "\n",
    "cursor = db.cursor()\n",
    "\n",
    "sql = \"\"\"\n",
    "    create table power_data(\n",
    "        no integer not null auto_increment primary key,\n",
    "        voltage float not null,\n",
    "        current float not null,\n",
    "        vendor text null,\n",
    "        name text not null,\n",
    "        reg_date timestamp not null default now()\n",
    "    )\n",
    "\"\"\"\n",
    "\n",
    "cursor.execute(sql)\n",
    "db.commit()\n",
    "db.close()\n",
    "\n",
    "print(\"float 형식의 테이블 생성 성공!\")"
   ]
  },
  {
   "cell_type": "code",
   "execution_count": null,
   "id": "587c78a8",
   "metadata": {},
   "outputs": [],
   "source": [
    "import time\n",
    "import math\n",
    "import calendar\n",
    "import datetime\n",
    "import numpy as np"
   ]
  },
  {
   "cell_type": "code",
   "execution_count": null,
   "id": "6e7f91d0",
   "metadata": {},
   "outputs": [],
   "source": [
    "sample_time = np.arange(0, 10, 0.001)\n",
    "\n",
    "print(sample_time)"
   ]
  },
  {
   "cell_type": "code",
   "execution_count": null,
   "id": "a918ae08",
   "metadata": {},
   "outputs": [],
   "source": [
    "\n",
    "sample_time = np.arange(0, 10, 0.001)\n",
    "\n",
    "print(sample_time)"
   ]
  },
  {
   "cell_type": "code",
   "execution_count": null,
   "id": "d1b5a735",
   "metadata": {},
   "outputs": [],
   "source": [
    "# 가우시안 분포(정규 분포) 형식을 따르는 랜덤을 만듬\n",
    "# 용어 필요 없고 데이터 개수에 따른 랜덤을 적절하게 만들어줌(자연스럽게)\n",
    "noise = np.random.normal(size = len(sample_time))\n",
    "\n",
    "print(noise)"
   ]
  },
  {
   "cell_type": "code",
   "execution_count": null,
   "id": "fd7898a2",
   "metadata": {},
   "outputs": [],
   "source": [
    "\n",
    "voltage = 3 * np.cos(5 * sample_time) + noise\n",
    "current = 3 * np.sin(3 * sample_time + (math.pi / 3)) + noise\n",
    "\n",
    "print(voltage)\n",
    "print(current)"
   ]
  },
  {
   "cell_type": "code",
   "execution_count": null,
   "id": "7b905acf",
   "metadata": {},
   "outputs": [],
   "source": [
    "!pip install matplotlib\n"
   ]
  },
  {
   "cell_type": "code",
   "execution_count": null,
   "id": "a518d4e9",
   "metadata": {},
   "outputs": [],
   "source": [
    "import matplotlib.pyplot as plt\n"
   ]
  },
  {
   "cell_type": "code",
   "execution_count": null,
   "id": "3e0f020e",
   "metadata": {},
   "outputs": [],
   "source": [
    "plt.plot(sample_time, voltage)\n",
    "plt.show()"
   ]
  },
  {
   "cell_type": "code",
   "execution_count": null,
   "id": "365488c9",
   "metadata": {},
   "outputs": [],
   "source": [
    "plt.plot(sample_time, current)\n",
    "plt.show()"
   ]
  },
  {
   "cell_type": "code",
   "execution_count": null,
   "id": "53399622",
   "metadata": {},
   "outputs": [],
   "source": [
    "# 현재 시간값을 컴퓨터가 계산하고 있는 수치로 가져옴\n",
    "ts = calendar.timegm(time.gmtime())\n",
    "\n",
    "print(ts)\n",
    "\n",
    "# sample_time이 이미 1000개짜리 배열이므로\n",
    "# 곱셈을 수행할 경우 알아서 1000개 배열에 1000씩 곱해짐(자동으로)\n",
    "# 샘플 타임이 0.001초(1 / 1000 초)를 대상으로 하고 있음\n",
    "# 전체 샘플 타임의 개수는 10000개(만개)이므로 1 / 1000 초 단위 샘플링을 하면\n",
    "# 10000 / 1000 = 10초간의 데이터를 수집함을 의미함\n",
    "ts = (sample_time * 1000) + ts\n",
    "\n",
    "print(ts)"
   ]
  },
  {
   "cell_type": "code",
   "execution_count": null,
   "id": "b64d2ac8",
   "metadata": {},
   "outputs": [],
   "source": [
    "# 실제 db에 넣기 위해 상호간의 데이터 타입을 np.float32로 맞춰줌(이것을 해줘야 DB에 입력 가능함)\n",
    "sample_time = np.array(sample_time, dtype=np.float32)\n",
    "voltage = np.array(voltage, dtype=np.float32)\n",
    "current = np.array(current, dtype=np.float32)"
   ]
  },
  {
   "cell_type": "code",
   "execution_count": null,
   "id": "eb153154",
   "metadata": {},
   "outputs": [],
   "source": [
    "curr_time = []\n",
    "\n",
    "# datetime.datetime을 통해 시간값을 제어할 수 있으며\n",
    "# datetime.datetime.fromtimestamp(컴퓨터시간).strftime(형식)을 통해\n",
    "# 원하는 형태로 시간을 형 변환할 수 있음\n",
    "for i in range(len(sample_time)):\n",
    "    curr_time.append(\n",
    "        datetime.\n",
    "            datetime.\n",
    "                fromtimestamp(ts[i]).\n",
    "                    strftime('%Y-%m-%d %H:%M:%S')\n",
    "    )\n",
    "    \n",
    "print(curr_time)"
   ]
  },
  {
   "cell_type": "code",
   "execution_count": null,
   "id": "d18f7382",
   "metadata": {},
   "outputs": [],
   "source": [
    "db = pymysql.connect(\n",
    "    host = '127.0.0.1',\n",
    "    port = 3306,\n",
    "    user = mysql_user_info['user_id'],\n",
    "    passwd = mysql_user_info['password'],\n",
    "    db = 'pydb'\n",
    ")\n",
    "\n",
    "cursor = db.cursor()\n",
    "\n",
    "# 소수점 형식의 데이터와 현재 시간값을 기록하도록 한다.\n",
    "sql = \"\"\"\n",
    "    insert into power_data(\n",
    "        voltage, current, vendor, name, reg_date\n",
    "    ) values(\n",
    "        %s, %s, %s, %s, %s\n",
    "    )\n",
    "\"\"\"\n",
    "\n",
    "# volt, curr이 np.float32\n",
    "# DB에 넣는 과정은 %s(문자열) 형식이므로 반드시 str()로 한 번 감싸줘야함\n",
    "try:\n",
    "    with db.cursor() as cursor:\n",
    "        for i in range(len(sample_time)):\n",
    "            cursor.execute(sql,\n",
    "                (\n",
    "                    str(voltage[i]),\n",
    "                    str(current[i]),\n",
    "                    'EDDI',\n",
    "                    'P32N21BTN77PW',\n",
    "                    curr_time[i]\n",
    "                )\n",
    "            )\n",
    "            \n",
    "        db.commit()\n",
    "finally:\n",
    "    db.close()\n",
    "    \n",
    "print('소수점 형식 데이터 및 날자 형식 데이터 입력 완료!')"
   ]
  },
  {
   "cell_type": "code",
   "execution_count": null,
   "id": "84942e5e",
   "metadata": {},
   "outputs": [],
   "source": []
  }
 ],
 "metadata": {
  "kernelspec": {
   "display_name": "Python 3",
   "language": "python",
   "name": "python3"
  },
  "language_info": {
   "codemirror_mode": {
    "name": "ipython",
    "version": 3
   },
   "file_extension": ".py",
   "mimetype": "text/x-python",
   "name": "python",
   "nbconvert_exporter": "python",
   "pygments_lexer": "ipython3",
   "version": "3.8.8"
  }
 },
 "nbformat": 4,
 "nbformat_minor": 5
}
