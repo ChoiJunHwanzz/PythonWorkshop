{
 "cells": [
  {
   "cell_type": "code",
   "execution_count": null,
   "id": "e489978a",
   "metadata": {},
   "outputs": [],
   "source": [
    "from flask import Flask, url_for, request, jsonify, redirect, Response\n",
    "from flask_cors import CORS, cross_origin\n",
    "\n",
    "import json\n",
    "import requests"
   ]
  },
  {
   "cell_type": "code",
   "execution_count": null,
   "id": "f69bee46",
   "metadata": {},
   "outputs": [],
   "source": [
    "KAKAO_TOKEN_SAVED_FILE = \"res/kakao_msg/kakao_token.json\"\n",
    "APP_KEY_SAVED_FILE = \"res/kakao_msg/app_key\"\n",
    "NAVER_USER_DATA_SAVED_FILE = \"res/naver/accout\""
   ]
  },
  {
   "cell_type": "code",
   "execution_count": null,
   "id": "4118d53e",
   "metadata": {},
   "outputs": [],
   "source": [
    "# 네이버 계정 정보를 저장하기 위해 최초로 한 번만 동작시키도록 한다.\n",
    "# 이후로는 또 동작시켜서는 안된다(계정 정보가 날아갈테니까)\n",
    "import pickle\n",
    "\n",
    "naver_user_info = dict({\n",
    "    \"smtp_user_id\": \"사용자계정@naver.com\",\n",
    "    \"smtp_user_pw\": \"비밀번호\"\n",
    "})\n",
    "\n",
    "f = open(NAVER_USER_DATA_SAVED_FILE, 'wb')\n",
    "pickle.dump(naver_user_info, f)\n",
    "f.close()"
   ]
  },
  {
   "cell_type": "code",
   "execution_count": null,
   "id": "705fe9ed",
   "metadata": {},
   "outputs": [],
   "source": [
    "# KAKAO REST API KEY 정보를 저장하기 위해 최초로 한 번만 동작시키도록 한다.\n",
    "# 이후로는 또 동작시켜서는 안된다(키값이 날아갈테니까)\n",
    "import pickle\n",
    "\n",
    "app_key = \"\"\n",
    "\n",
    "f = open(APP_KEY_SAVED_FILE, 'wb')\n",
    "pickle.dump(app_key, f)\n",
    "f.close()"
   ]
  },
  {
   "cell_type": "code",
   "execution_count": null,
   "id": "4b61f9d3",
   "metadata": {},
   "outputs": [],
   "source": [
    "# REST APP KEY 저장 잘 되었는지 확인하는 목적\n",
    "import pickle\n",
    "\n",
    "f = open(APP_KEY_SAVED_FILE, 'rb')\n",
    "app_key = pickle.load(f)\n",
    "f.close()"
   ]
  },
  {
   "cell_type": "code",
   "execution_count": null,
   "id": "dbeba612",
   "metadata": {},
   "outputs": [],
   "source": [
    "# NAVER 계정 정보를 가져옴\n",
    "import pickle\n",
    "\n",
    "f = open(NAVER_USER_DATA_SAVED_FILE, 'rb')\n",
    "naver_user_info = pickle.load(f)\n",
    "f.close()\n",
    "\n",
    "print()"
   ]
  },
  {
   "cell_type": "code",
   "execution_count": null,
   "id": "567cb8ee",
   "metadata": {},
   "outputs": [],
   "source": [
    "def load_tokens(filename):\n",
    "    with open(filename) as fp:\n",
    "        tokens = json.load(fp)\n",
    "        \n",
    "    return tokens"
   ]
  },
  {
   "cell_type": "code",
   "execution_count": null,
   "id": "cc3d4489",
   "metadata": {},
   "outputs": [],
   "source": [
    "import os\n",
    "import smtplib\n",
    "\n",
    "from email.mime.multipart import MIMEMultipart\n",
    "from email.mime.image import MIMEImage\n",
    "from email.mime.audio import MIMEAudio\n",
    "from email.mime.text import MIMEText\n",
    "from email.mime.text import MIMEText\n",
    "from email.mime.base import MIMEBase\n",
    "from email import encoders"
   ]
  },
  {
   "cell_type": "code",
   "execution_count": null,
   "id": "cc62b538",
   "metadata": {},
   "outputs": [],
   "source": [
    "def send_email(smtp_info, naver_user_info, msg):\n",
    "    with smtplib.SMTP(smtp_info[\"smtp_server\"], smtp_info[\"smtp_port\"]) as server:\n",
    "        # TLS 보안 설정 및 시작 (보안 정책상 필수)\n",
    "        server.starttls()\n",
    "        \n",
    "        # 로그인\n",
    "        server.login(naver_user_info[\"smtp_user_id\"], naver_user_info[\"smtp_user_pw\"])\n",
    "        \n",
    "        # 이메일 전송\n",
    "        # 메시지 전송시 반드시 as_string()으로 변환하여 전송해야함\n",
    "        res = server.sendmail(msg['from'], msg['to'], msg.as_string())\n",
    "        \n",
    "        if not res:\n",
    "            print('이메일 전송 성공!!!')\n",
    "        else:\n",
    "            print(res)"
   ]
  },
  {
   "cell_type": "code",
   "execution_count": null,
   "id": "b66b1dd3",
   "metadata": {},
   "outputs": [],
   "source": [
    "\n",
    "def make_multimsg(msg_dict):\n",
    "    multi = MIMEMultipart(_subtype = 'mixed')\n",
    "    \n",
    "    for key, value in msg_dict.items():\n",
    "        # text 형식인 경우\n",
    "        if key == 'text':\n",
    "            with open(value['filename'], encoding='utf-8') as fp:\n",
    "                msg = MIMEText(fp.read(), _subtype = value['subtype'])\n",
    "        # image 형식인 경우\n",
    "        elif key == 'image':\n",
    "            with open(value['filename'], 'rb') as fp:\n",
    "                msg = MIMEImage(fp.read(), _subtype = value['subtype'])\n",
    "        # audio, video는 별도 설정 없이 진행하도록 함\n",
    "        elif key == 'audio':\n",
    "            print(\"음원은 지원하지 않습니다!\")\n",
    "        elif key == 'video':\n",
    "            print(\"영상은 지원하지 않습니다!\")\n",
    "        # 그 외의 형식\n",
    "        else:\n",
    "            with open(value['filename'], 'rb') as fp:\n",
    "                msg = MIMEBase(value['maintype'], _subtype = value['subtype'])\n",
    "                msg.set_payload(fp.read())\n",
    "                encoders.encode_base64(msg)\n",
    "                \n",
    "        # 파일 이름은 첨부파일 제목\n",
    "        msg.add_header('Content-Disposition', 'attachment', \n",
    "                       filename = os.path.basename(value['filename']))\n",
    "\n",
    "        # 파일 첨부!\n",
    "        multi.attach(msg)\n",
    "        \n",
    "    return multi"
   ]
  },
  {
   "cell_type": "code",
   "execution_count": null,
   "id": "dfa82695",
   "metadata": {},
   "outputs": [],
   "source": [
    "smtp_info = dict({\n",
    "    \"smtp_server\": \"smtp.naver.com\",\n",
    "    \"smtp_port\": 587\n",
    "})\n",
    "\n",
    "msg_dict = {\n",
    "    # 텍스트 형식의 첨부 파일\n",
    "    'text': {\n",
    "        'maintype': 'text',\n",
    "        'subtype': 'plain',\n",
    "        'filename': 'res/email/test.txt'\n",
    "    },\n",
    "    # 이미지 형식의 첨부 파일\n",
    "    'image': {\n",
    "        'maintype': 'image',\n",
    "        'subtype': 'jpg',\n",
    "        'filename': 'res/email/bonobono.jpg'\n",
    "    },\n",
    "    # 세금계산서 등등의 pdf 형식의 첨부 파일들\n",
    "    'application': {\n",
    "        'maintype': 'application',\n",
    "        'subtype': 'octect-stream',\n",
    "        'filename': 'res/email/test.pdf'\n",
    "    }\n",
    "}\n",
    "\n",
    "# 메일 작성\n",
    "title = \"첨부파일이 날아간드아!\"\n",
    "content = \"ㅇㅇ 이건 메일 내용이야\"\n",
    "sender = smtp_info['smtp_user_id']\n",
    "receiver = smtp_info['smtp_user_id']\n",
    "\n",
    "msg = MIMEText(_text = content, _charset = 'utf-8')\n",
    "\n",
    "# 파일 첨부하기!\n",
    "multi = make_multimsg(msg_dict)\n",
    "multi['Subject'] = title\n",
    "multi['From'] = sender\n",
    "multi['To'] = receiver\n",
    "multi.attach(msg)\n",
    "\n",
    "# 첨부한 내용을 추가하여 이메일 전송!\n",
    "send_email(smtp_info, multi)"
   ]
  },
  {
   "cell_type": "code",
   "execution_count": null,
   "id": "f94a65ca",
   "metadata": {},
   "outputs": [],
   "source": []
  }
 ],
 "metadata": {
  "kernelspec": {
   "display_name": "Python 3",
   "language": "python",
   "name": "python3"
  },
  "language_info": {
   "codemirror_mode": {
    "name": "ipython",
    "version": 3
   },
   "file_extension": ".py",
   "mimetype": "text/x-python",
   "name": "python",
   "nbconvert_exporter": "python",
   "pygments_lexer": "ipython3",
   "version": "3.8.8"
  }
 },
 "nbformat": 4,
 "nbformat_minor": 5
}
